{
 "cells": [
  {
   "cell_type": "markdown",
   "id": "1967091a-6a78-406e-a90f-8e63f7945c6d",
   "metadata": {},
   "source": [
    "<div style=\"text-align: left\"> <b> 01/12/2023 </b> <span style=\"float: right\"> <b> de Charrin Théotime </b> - MVA </span></div>"
   ]
  },
  {
   "cell_type": "markdown",
   "id": "47e8d812-094d-4b10-85b1-3f3b61f690a0",
   "metadata": {},
   "source": [
    "# TP3 - Échantillonnage Hasting-Metropolis et Gibbs"
   ]
  },
  {
   "cell_type": "code",
   "execution_count": 4,
   "id": "50a2ceea",
   "metadata": {},
   "outputs": [],
   "source": [
    "import numpy as np\n",
    "import matplotlib.pyplot as plt \n",
    "import pandas as pd\n",
    "import sklearn \n",
    "import math\n",
    "import scipy.stats as stats\n",
    "import sklearn.cluster as cluster\n",
    "from numba import jit"
   ]
  },
  {
   "cell_type": "code",
   "execution_count": 3,
   "id": "4fdc61c1-7e97-442d-938d-dbdcaeb057ed",
   "metadata": {},
   "outputs": [],
   "source": [
    "plt.rcParams['figure.figsize'] = [12, 8]\n",
    "plt.rcParams['figure.dpi'] = 100 "
   ]
  },
  {
   "cell_type": "code",
   "execution_count": 4,
   "id": "9a3c0736-7cd8-460f-a81b-2ce0ea200680",
   "metadata": {},
   "outputs": [],
   "source": [
    "def discrete_db(p,niter,values=None):\n",
    "    #valeurs par défault pour X sont les entiers entre 0 et N-1, sinon peut être défini par l'utilisateur\n",
    "    values=np.arange(len(p)) if values is None else values\n",
    "    if math.isclose(np.sum(p),1):\n",
    "        u=np.random.rand(niter)\n",
    "        F=[0, *np.cumsum(p)]\n",
    "        d=[np.where(F>=u[i])[0][0] for i in range(niter)]\n",
    "        sampled=[values[d[i]-1] for i in range(niter)]\n",
    "        return sampled\n",
    "    else:\n",
    "        print(f'P ({p}) is not a vector of probabilities as it sums to {np.sum(p)}')"
   ]
  }
 ],
 "metadata": {
  "kernelspec": {
   "display_name": "Python 3 (ipykernel)",
   "language": "python",
   "name": "python3"
  },
  "language_info": {
   "codemirror_mode": {
    "name": "ipython",
    "version": 3
   },
   "file_extension": ".py",
   "mimetype": "text/x-python",
   "name": "python",
   "nbconvert_exporter": "python",
   "pygments_lexer": "ipython3",
   "version": "3.10.12"
  }
 },
 "nbformat": 4,
 "nbformat_minor": 5
}
