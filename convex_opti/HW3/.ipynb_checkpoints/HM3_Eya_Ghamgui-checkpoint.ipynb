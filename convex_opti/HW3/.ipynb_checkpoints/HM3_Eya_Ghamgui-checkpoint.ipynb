{
 "cells": [
  {
   "cell_type": "markdown",
   "metadata": {},
   "source": [
    "---\n",
    " # <center> Convex Optimization - Homework 3\n",
    " \n",
    "<center> Realized By: Eya Ghamgui\n",
    "<center> eya.ghamgui@telecom-paris.fr\n",
    "\n",
    "---"
   ]
  },
  {
   "cell_type": "markdown",
   "metadata": {},
   "source": [
    "## Import Librairies "
   ]
  },
  {
   "cell_type": "code",
   "execution_count": 1,
   "metadata": {},
   "outputs": [],
   "source": [
    "import numpy as np \n",
    "import seaborn as sns \n",
    "import matplotlib.pyplot as plt\n",
    "from sklearn.datasets import make_regression\n",
    "sns.set() "
   ]
  },
  {
   "cell_type": "markdown",
   "metadata": {},
   "source": [
    "## Barrier Method "
   ]
  },
  {
   "cell_type": "markdown",
   "metadata": {},
   "source": [
    "In this part, we want  to solve the centring problem: \n",
    "\n",
    "$$ \\text{minimize} ~~t f_0(x) - \\sum_{i=1}^m log(- f_i(x)) $$ \n",
    "\n",
    "To do this, I will implement the Newton method to solve the centring step using the backtracking line search. "
   ]
  },
  {
   "cell_type": "code",
   "execution_count": 14,
   "metadata": {},
   "outputs": [],
   "source": [
    "# The function f0 \n",
    "def f0(Q, p, v) :\n",
    "    return np.dot(np.dot(v.T,Q),v) + np.dot(p.T,v)"
   ]
  },
  {
   "cell_type": "code",
   "execution_count": 3,
   "metadata": {},
   "outputs": [],
   "source": [
    "# Calculate the objective function \n",
    "def f (Q, p, A, b, t, v) : \n",
    "    \n",
    "    fi = np.dot(A,v) - b \n",
    "    if (fi >= 0).any() : \n",
    "        return None\n",
    "    else : \n",
    "        return (t * f0(Q, p, v) - np.sum(np.log(-fi)))"
   ]
  },
  {
   "cell_type": "code",
   "execution_count": 4,
   "metadata": {},
   "outputs": [],
   "source": [
    "# The gradient of the objective function\n",
    "def gradf (Q, p, A, b, t, v) :\n",
    "    \n",
    "    df = 2 * np.dot(Q,v) + p\n",
    "    dfi = np.dot(-A.T , 1/(b - np.dot(A,v)))\n",
    "    \n",
    "    return t * df - dfi "
   ]
  },
  {
   "cell_type": "code",
   "execution_count": 5,
   "metadata": {},
   "outputs": [],
   "source": [
    "# The hessian of the objective function\n",
    "def hessf (Q, p, A, b, t, v) : \n",
    "    \n",
    "    ddf = 2 * Q \n",
    "    aux  = (1 /((b - np.dot(A,v))**2)).reshape(-1)\n",
    "    ddfi = np.dot(np.dot(-A.T , np.diag(aux)), A)\n",
    "    \n",
    "    return (t * ddf - ddfi)"
   ]
  },
  {
   "cell_type": "code",
   "execution_count": 6,
   "metadata": {},
   "outputs": [],
   "source": [
    "# Bachtracking function \n",
    "def backtrack (Q, p, A, b, t, v, dv) :\n",
    "    \n",
    "    t_new = 1  \n",
    "    while True : \n",
    "        \n",
    "        v_new = v + t_new *dv\n",
    "        if f(Q, p, A, b, t, v_new) != None : \n",
    "            if f(Q, p, A, b, t, v_new) >= f(Q, p, A, b, t, v) + alpha * t_new * np.dot((gradf(Q, p, A, b, t, v)).T, dv):\n",
    "                t_new = t_new * beta\n",
    "            else: \n",
    "                break \n",
    "        else : \n",
    "            break\n",
    "    \n",
    "    return t_new"
   ]
  },
  {
   "cell_type": "code",
   "execution_count": 7,
   "metadata": {},
   "outputs": [],
   "source": [
    "# The centering step function \n",
    "def centering_step (Q, p, A, b, t, v0, eps) : \n",
    "    \n",
    "    v_list = [v0]\n",
    "    v = v0\n",
    "    k = 0\n",
    "\n",
    "    while True :\n",
    "        \n",
    "        df = gradf(Q, p, A, b, t, v)\n",
    "        ddf = hessf(Q, p, A, b, t, v)\n",
    "        \n",
    "        dv = - np.dot(np.linalg.inv(ddf),df)\n",
    "        lambda2 = - np.dot(df.T , dv)\n",
    "        \n",
    "        if lambda2 / 2 <= eps : \n",
    "            break \n",
    "            \n",
    "        t_new = backtrack (Q, p, A, b, t, v, dv)       \n",
    "        v = v + t_new * dv \n",
    "        v_list.append(v)\n",
    "        k += 1\n",
    "    \n",
    "    return v_list, k "
   ]
  },
  {
   "cell_type": "code",
   "execution_count": 8,
   "metadata": {},
   "outputs": [],
   "source": [
    "# The barrier method to solve QP \n",
    "def barr_method (Q, p, A, b, v0, eps) : \n",
    "    \n",
    "    m = A.shape[0]   \n",
    "    v = v0 \n",
    "    t_new = t0\n",
    "    v_list = [v0]\n",
    "    num_iter = 0\n",
    "  \n",
    "    while (m/t_new)>= eps : \n",
    "        v, k = centering_step(Q, p, A, b, t_new, v, 1e-5)\n",
    "        v = v[-1]\n",
    "        v_list.append(v)\n",
    "        num_iter += k\n",
    "        t_new = t_new * mu \n",
    "\n",
    "    return (v_list , num_iter) "
   ]
  },
  {
   "cell_type": "markdown",
   "metadata": {},
   "source": [
    "## Testing part for different values of $\\mu$"
   ]
  },
  {
   "cell_type": "code",
   "execution_count": 9,
   "metadata": {},
   "outputs": [],
   "source": [
    "# Parameters \n",
    "n = 50\n",
    "d = 100\n",
    "\n",
    "# Random Initialization \n",
    "X, y, w = make_regression( n_samples = n , n_features = d, coef=True, random_state=42)\n",
    "y = y.reshape(-1 , 1)\n",
    "w = w.reshape(-1 , 1)\n",
    "\n",
    "# Variables \n",
    "Q = 0.5*np.eye(n)\n",
    "A = np.vstack((X.T , -X.T))\n",
    "p = - y\n",
    "b = 10 * np.ones((2*d,1))\n",
    "v0 = np.zeros((n,1))\n",
    "\n",
    "eps = 1e-3\n",
    "t0 = 1\n",
    "alpha  = 0.01 \n",
    "beta = 0.5 \n",
    "mu_list = [2, 10, 15, 30, 50, 100, 150, 200,500]"
   ]
  },
  {
   "cell_type": "markdown",
   "metadata": {},
   "source": [
    "#### 1. Duality Gap"
   ]
  },
  {
   "cell_type": "code",
   "execution_count": 15,
   "metadata": {},
   "outputs": [
    {
     "name": "stdout",
     "output_type": "stream",
     "text": [
      "[[546860.71218996]]\n",
      "[[0.35600281]]\n",
      "[[0.0968157]]\n",
      "[[0.02560666]]\n",
      "[[0.00660465]]\n",
      "[[0.00167848]]\n",
      "[[0.00042316]]\n",
      "[[0.00010624]]\n",
      "[[2.66156858e-05]]\n",
      "[[6.66058622e-06]]\n",
      "[[1.66601967e-06]]\n",
      "[[4.16417606e-07]]\n",
      "[[1.03842467e-07]]\n",
      "[[2.57277861e-08]]\n",
      "[[6.4028427e-09]]\n",
      "[[1.39698386e-09]]\n",
      "[[2.32830644e-10]]\n",
      "[[2.32830644e-10]]\n",
      "[[0.]]\n",
      "[[546860.71218996]]\n",
      "[[0.35600281]]\n",
      "[[0.00416074]]\n",
      "[[4.35627298e-05]]\n",
      "[[4.37139533e-07]]\n",
      "[[4.54019755e-09]]\n",
      "[[0.]]\n",
      "[[546860.71218996]]\n",
      "[[0.35600281]]\n",
      "[[0.00186085]]\n",
      "[[8.6199725e-06]]\n",
      "[[3.85334715e-08]]\n",
      "[[0.]]\n",
      "[[546860.71218996]]\n",
      "[[0.35600281]]\n",
      "[[0.00046816]]\n",
      "[[5.38653694e-07]]\n",
      "[[0.]]\n",
      "[[546860.71218996]]\n",
      "[[0.35600281]]\n",
      "[[0.00016897]]\n",
      "[[6.98491931e-08]]\n",
      "[[0.]]\n",
      "[[546860.71218996]]\n",
      "[[0.35600281]]\n",
      "[[4.23180172e-05]]\n",
      "[[0.]]\n",
      "[[546860.71218996]]\n",
      "[[0.35600281]]\n",
      "[[1.88213307e-05]]\n",
      "[[0.]]\n",
      "[[546860.71218996]]\n",
      "[[0.35600281]]\n",
      "[[1.05903018e-05]]\n",
      "[[0.]]\n",
      "[[546860.71218826]]\n",
      "[[0.35600111]]\n",
      "[[0.]]\n"
     ]
    },
    {
     "data": {
      "image/png": "[encoded data removed]",
      "text/plain": [
       "<Figure size 1080x576 with 1 Axes>"
      ]
     },
     "metadata": {
      "needs_background": "light"
     },
     "output_type": "display_data"
    }
   ],
   "source": [
    "plt.figure(figsize=(15,8))\n",
    "\n",
    "iter_list =[]\n",
    "objective = []\n",
    "\n",
    "for mu in mu_list : \n",
    "    \n",
    "    v_list , num_iter = barr_method (Q, p, A, b, v0, eps)\n",
    "    iter_list.append(num_iter)\n",
    "    gap =[]\n",
    "    \n",
    "    for v in v_list :\n",
    "        diff = f0 (Q, p, v) - f0 (Q, p, v_list[-1])\n",
    "        print(diff)\n",
    "        gap.append(diff[0][0])\n",
    "    \n",
    "    objective.append(f0 (Q, p, v_list[-1])[0][0])\n",
    "        \n",
    "    itr = range(len(gap))\n",
    "    plt.step(itr , gap)\n",
    "    \n",
    "plt.semilogy()\n",
    "plt.xlabel(\"Number of Outer Iterations\")\n",
    "plt.ylabel(\"Duality Gap\")\n",
    "plt.legend(['$\\mu = $' + str(x) for x in mu_list])\n",
    "plt.title('Duality gap with respect to number of iterations')\n",
    "plt.savefig(\"dual_gap\")\n",
    "plt.show()"
   ]
  },
  {
   "cell_type": "markdown",
   "metadata": {},
   "source": [
    "#### 2. Optimal Values"
   ]
  },
  {
   "cell_type": "code",
   "execution_count": 11,
   "metadata": {},
   "outputs": [
    {
     "name": "stdout",
     "output_type": "stream",
     "text": [
      "For mu =  2  the optimal value is equal to =  -546860.7121899597\n",
      "For mu =  10  the optimal value is equal to =  -546860.7121899602\n",
      "For mu =  15  the optimal value is equal to =  -546860.7121899601\n",
      "For mu =  30  the optimal value is equal to =  -546860.7121899594\n",
      "For mu =  50  the optimal value is equal to =  -546860.7121899597\n",
      "For mu =  100  the optimal value is equal to =  -546860.7121899555\n",
      "For mu =  150  the optimal value is equal to =  -546860.7121899595\n",
      "For mu =  200  the optimal value is equal to =  -546860.7121899595\n",
      "For mu =  500  the optimal value is equal to =  -546860.7121882644\n"
     ]
    }
   ],
   "source": [
    "for m in mu_list: \n",
    "    print('For mu = ',m, ' the optimal value is equal to = ', objective[mu_list.index(m)])"
   ]
  },
  {
   "cell_type": "markdown",
   "metadata": {},
   "source": [
    "#### 3. Newton Iterations "
   ]
  },
  {
   "cell_type": "code",
   "execution_count": 12,
   "metadata": {},
   "outputs": [
    {
     "data": {
      "image/png": "[encoded data removed]",
      "text/plain": [
       "<Figure size 1080x576 with 1 Axes>"
      ]
     },
     "metadata": {
      "needs_background": "light"
     },
     "output_type": "display_data"
    }
   ],
   "source": [
    "plt.figure(figsize=(15,8))\n",
    "plt.plot(mu_list , iter_list , marker = 'o')\n",
    "plt.ylabel(\"Number of Newton (Total) Iterations\")\n",
    "plt.xlabel('$\\mu$')\n",
    "plt.title('Newton iterations with respect to $\\mu$')\n",
    "plt.savefig(\"Newton_iter\")\n",
    "plt.show()"
   ]
  },
  {
   "cell_type": "markdown",
   "metadata": {},
   "source": [
    "## Impact of $\\mu$ on $w$"
   ]
  },
  {
   "cell_type": "code",
   "execution_count": 13,
   "metadata": {},
   "outputs": [
    {
     "data": {
      "image/png": "[encoded data removed]",
      "text/plain": [
       "<Figure size 1080x576 with 1 Axes>"
      ]
     },
     "metadata": {
      "needs_background": "light"
     },
     "output_type": "display_data"
    }
   ],
   "source": [
    "# Using KKT condition, we can calculate the estimated w = X^-1(y - v*)\n",
    "\n",
    "dist = []\n",
    "\n",
    "for m in mu_list:\n",
    "    v_list , num_iter = barr_method (Q, p, A, b, v0, eps)\n",
    "    \n",
    "    w_est = np.dot(np.linalg.pinv(X), y - v_list[-1]) \n",
    "    w_est /= np.linalg.norm(w_est)\n",
    "    w /= np.linalg.norm(w) \n",
    "    \n",
    "    dist.append(np.linalg.norm(w_est - w))\n",
    "\n",
    "plt.figure(figsize=(15,8)) \n",
    "plt.plot(mu_list, dist, marker = 'o')\n",
    "plt.ylabel(\"Distance between the estimated w and original w\")\n",
    "plt.xlabel('$\\mu$')\n",
    "plt.title('Distance between the estimated w and original w with respect to $\\mu$')\n",
    "plt.savefig(\"dist\")\n",
    "plt.show()"
   ]
  }
 ],
 "metadata": {
  "kernelspec": {
   "display_name": "Python 3 (ipykernel)",
   "language": "python",
   "name": "python3"
  },
  "language_info": {
   "codemirror_mode": {
    "name": "ipython",
    "version": 3
   },
   "file_extension": ".py",
   "mimetype": "text/x-python",
   "name": "python",
   "nbconvert_exporter": "python",
   "pygments_lexer": "ipython3",
   "version": "3.10.12"
  }
 },
 "nbformat": 4,
 "nbformat_minor": 4
}
