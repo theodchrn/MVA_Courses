{
 "cells": [
  {
   "cell_type": "markdown",
   "id": "41b23c93-de26-487c-8f7d-f4b65b3d1ce5",
   "metadata": {},
   "source": [
    "<div style=\"text-align: left\"> <b> 20/11/2024 </b> <span style=\"float: right\"> <b> de Charrin Théotime </b> - MVA </span></div>"
   ]
  },
  {
   "cell_type": "markdown",
   "id": "a19b6955-80f9-47e3-b793-97f96fe3bd8a",
   "metadata": {},
   "source": [
    "# Convex Optimization - Homework 3"
   ]
  },
  {
   "cell_type": "markdown",
   "id": "0d576172-87cd-4a68-a84a-7fb24a9f4d68",
   "metadata": {},
   "source": [
    "## Question 1\n",
    "\n",
    "\n",
    "### Rappels HW2 \n",
    "On se souvient que le dual de \n",
    "$$ \\min_x \\|Ax-b\\|_2^2 + \\|x\\|_1 \\quad \\text{(P)}$$\n",
    "a pour dual (en utilisant la norme duale $\\|.\\|_1^*$) \n",
    "$$\\max_\\nu -\\dfrac{1}{4}\\|\\nu\\|_2^2 + \\nu^T b \\quad \\text{s.c.} \\begin{cases} \\|A^T\\nu\\|_\\infty \\leq 1 \\\\ \\nu \\geq 0 \\end{cases} \\quad\\quad \\text{(D)} $$\n",
    "On va réutiliser le même raisonnement ici.\n",
    "\n",
    "### Dans notre cas \n",
    "\n",
    "On réécrit notre problème :\n",
    "$$ \\begin{aligned} &\\min_w\\dfrac{1}{2} \\|Xw-y\\|_2^2 + \\lambda\\|w\\|_1 \\quad \\text{(LASSO)}\\\\ \\Leftrightarrow \n",
    "& \\min_{z,w}\\dfrac{1}{2} \\|z\\|_2^2 + \\lambda\\|w\\|_1 \\quad\\quad \\text{s.c.}~z-Xw+y=0\\end{aligned}$$\n",
    "\n",
    "On a le lagrangien :\n",
    "$$\\begin{aligned}\n",
    "\\mathcal{L}(z,w,v)&= \\dfrac{1}{2} \\|z\\|_2^2 + \\lambda\\|w\\|_1 + v^T(z-Xw+y)\\\\\n",
    "&= \\dfrac{1}{2} \\|z\\|_2^2 +v^Tz + \\lambda\\|w\\|_1 - v^TXw +v^Ty  \n",
    "\\end{aligned}$$\n",
    "On résoud $\\nabla_z\\mathcal{L}=0~\\Leftrightarrow ~ z=-v$\n",
    "\n",
    "Comme pour **HW2**, résoudre\n",
    "$$\\begin{aligned}\n",
    "\\inf_w ~\\lambda\\|w\\|_1-v^TXw &\\Leftrightarrow \\inf_w ~\\|w\\|_1-\\left(\\dfrac{X^Tv}{\\lambda}\\right)^Tw\\\\\n",
    "&= \\begin{cases}\n",
    "0 ~\\text{si}~\\|\\dfrac{X^Tv}{\\lambda}\\|_\\infty \\leq 1\\\\\n",
    "+\\infty ~\\text{sinon}\n",
    "\\end{cases}\n",
    "\\end{aligned}$$\n",
    "\n",
    "On a donc \n",
    "$$\\begin{aligned}\n",
    "\\inf_{z,w} \\mathcal{L}(z,v,w)&=\\underbrace{\\dfrac{1}{2} \\|-v\\|_2^2 +v^T(-v)}_{-\\frac{1}{2}\\|v\\|_2^2}\n",
    "+\\underbrace{ \\lambda\\|w\\|_1 - v^TXw }_{\\text{s.c.} ~\\lVert\\dfrac{X^Tv}{\\lambda}\\rVert_\\infty \\leq 1 } +v^Ty\\\\\n",
    "&=-\\frac{1}{2}\\|v\\|_2^2+v^Ty \\quad\\quad \\text{s.c.}~~\\lVert\\dfrac{X^Tv}{\\lambda}\\rVert_\\infty \\leq 1 \n",
    "\\end{aligned}$$\n",
    "\n",
    "Le problème dual revient à maximiser cet $\\inf$, d'où \n",
    "$$\n",
    "\\max_v g(v)=\\max_v -\\frac{1}{2}\\|v\\|_2^2+v^Ty \\Leftrightarrow \\min_v \\frac{1}{2}\\|v\\|_2^2-v^Ty\n",
    "~~\\text{s.c.}~~\\lVert\\dfrac{X^Tv}{\\lambda}\\rVert_\\infty \\leq 1 \\quad\\quad \\text{(DUAL)}\n",
    "$$\n",
    "\n",
    "On peut dire que :\n",
    "$$\\begin{aligned}\n",
    "\\lVert\\dfrac{X^Tv}{\\lambda}\\rVert_\\infty \\leq 1 &\\Leftrightarrow -1 \\leq \\dfrac{[X^Tv]_i}{\\lambda}\\leq 1 \n",
    "\\quad\\quad ~\\forall i \\in [[ 1,n ]] \\\\ \n",
    "&\\Leftrightarrow \\dfrac{[X^Tv]_i}{\\lambda}\\leq 1 \\quad\\text{et}\\quad-\\dfrac{[X^Tv]_i}{\\lambda}\\leq 1 \\\\\n",
    "&\\Leftrightarrow \n",
    "\\begin{pmatrix}\n",
    "\\frac{X^T}{\\lambda}\\\\\n",
    "-\\frac{X^T}{\\lambda}\n",
    "\\end{pmatrix}\n",
    "\\preccurlyeq \\textbf{1}_{2d}\\\\ \n",
    "&\\Leftrightarrow Av\n",
    "\\preccurlyeq \\lambda \\textbf{1}_{2d}\n",
    " \\quad\\quad \\text{avec}~A=\n",
    "\\begin{pmatrix}\n",
    "X^T\\\\\n",
    "-X^T\n",
    "\\end{pmatrix}\n",
    "\\end{aligned}$$\n",
    "\n",
    "\n",
    "\n",
    "En notant $\\frac{1}{2}\\|v\\|_2^2=v^T \\frac12I_nv=v^TQv$ et $y=-p,\\quad b=\\lambda \\textbf{1}_{2d}$ on a :\n",
    "$$\n",
    "\\min_v v^TQv +v^Tp \\quad\\quad \\text{s.c.}\n",
    "\\begin{cases}\n",
    "Q=\\frac{1}{2}I_n\\\\\n",
    " Av\n",
    "\\preccurlyeq b\n",
    "\\end{cases}\n",
    "$$\n",
    "\n",
    "## Question 2\n",
    "Pour la méthode des points intérieurs, on transforme notre fonction objective\n",
    "$g_0(v)=v^TQv +v^Tp$ en la fonction $g_t(v)=tg_0(v)+\\phi$ avec $\\phi=-\\sum_1^{2d}-\\log  (b_i - [Av]_i)$.\n",
    "\n",
    "On calcule le gradient et la Hessienne de $g_t$ (on note $\\left(A_i\\right)_{1\\leq i\\leq 2d} \\in \\mathbb{R}^n$ la $i$-ème ligne de $A$) :\n",
    "$$\n",
    "\\nabla_v g_t(v)=t(2Qv+p)+\\sum_1^{2d}\\frac{A_i^T}{b_i - [Av]_i}\\\\\n",
    "\\nabla^2 g_t(v)=2tQ +\\sum_1^{2d}\\frac{A_iA_i^T}{\\left(b_i-[Av]_i\\right)^2}\n",
    "$$\n",
    "On a le pseudo-algorithme suivant :\n",
    ">  Choisir un $v_0$ faisable, $t_0>0,~\\mu>1,\\epsilon>0$\n",
    "> - Tant que $\\frac{2d}{t}>\\epsilon$ :\n",
    ">> - Faire une étape de centrage, *i.e.* trouver $\\min_v g_t(v)$ par  la méthode de Newton :\n",
    ">>> - Tant que $\\lambda^2=\\nabla g_t(v) \\nabla^2 g_t(v)^{-1} \\nabla g_t(v)<\\epsilon$ :\n",
    ">>>> - Choisir un pas $\\Delta v = -\\nabla^2 g_t(v)^{-1} \\nabla g_t(v)$\n",
    ">>>> - Trouver la longueur du pas $\\xi$ tel que $g_t(v+\\xi \\nabla v)<g_t(v)+\\alpha \\xi \\nabla g_t(v)^T\\nabla v$ (par méthode de line backtracking de paramètres $\\alpha$ et $\\beta$)\n",
    ">>>> -  Updater $v=v+\\xi \\nabla v$\n",
    ">> - Updater $t=\\mu t$\n",
    "\n",
    "\n",
    "## Question 3 \n",
    "\n",
    "Pour évaluer l'impact de $\\mu$ sur l'évalutation de $w$, on utilise la complementary slackness des conditions KKT (stricte convexité du lagrangien, stricte faisabilité):\n",
    "- on pose $v^*$ solution optimale du dual (et donc du lagrangien $\\mathcal{L}(z,w,v)$)\n",
    "- alors on vérifie $v^{*T} \\sum_1^{2d}(z-Xw+y)=0$ à $z,w$ optimaux.\n",
    "\n",
    "On a vu plus haut que $\\nabla_z \\mathcal{L}(z,w,v^*)=0~\\Rightarrow~z=-v^*$\n",
    "\n",
    "Pour vérifier la complementary slackness il faut donc $-v^* -Xw+y=0 ~\\Leftrightarrow ~w=X^{-1}(y-v^*)$.\n"
   ]
  },
  {
   "cell_type": "code",
   "execution_count": 1,
   "id": "1a350bf8-784d-4c12-93eb-953c4a280750",
   "metadata": {},
   "outputs": [
    {
     "name": "stdout",
     "output_type": "stream",
     "text": [
      "Defaulting to user installation because normal site-packages is not writeable\n",
      "Requirement already satisfied: cvxpy in /home/theodechrn/.local/lib/python3.10/site-packages (1.4.1)\n",
      "Requirement already satisfied: osqp>=0.6.2 in /home/theodechrn/.local/lib/python3.10/site-packages (from cvxpy) (0.6.3)\n",
      "Requirement already satisfied: ecos>=2 in /home/theodechrn/.local/lib/python3.10/site-packages (from cvxpy) (2.0.12)\n",
      "Requirement already satisfied: clarabel>=0.5.0 in /home/theodechrn/.local/lib/python3.10/site-packages (from cvxpy) (0.6.0)\n",
      "Requirement already satisfied: scs>=3.0 in /home/theodechrn/.local/lib/python3.10/site-packages (from cvxpy) (3.2.4)\n",
      "Requirement already satisfied: numpy>=1.15 in /home/theodechrn/.local/lib/python3.10/site-packages (from cvxpy) (1.26.0)\n",
      "Requirement already satisfied: scipy>=1.1.0 in /home/theodechrn/.local/lib/python3.10/site-packages (from cvxpy) (1.11.3)\n",
      "Requirement already satisfied: pybind11 in /home/theodechrn/.local/lib/python3.10/site-packages (from cvxpy) (2.11.1)\n",
      "Requirement already satisfied: qdldl in /home/theodechrn/.local/lib/python3.10/site-packages (from osqp>=0.6.2->cvxpy) (0.1.7.post0)\n",
      "Note: you may need to restart the kernel to use updated packages.\n",
      "Defaulting to user installation because normal site-packages is not writeable\n",
      "Requirement already satisfied: umap-learn in /home/theodechrn/.local/lib/python3.10/site-packages (0.5.4)\n",
      "Requirement already satisfied: numpy>=1.17 in /home/theodechrn/.local/lib/python3.10/site-packages (from umap-learn) (1.26.0)\n",
      "Requirement already satisfied: scipy>=1.3.1 in /home/theodechrn/.local/lib/python3.10/site-packages (from umap-learn) (1.11.3)\n",
      "Requirement already satisfied: scikit-learn>=0.22 in /home/theodechrn/.local/lib/python3.10/site-packages (from umap-learn) (1.3.1)\n",
      "Requirement already satisfied: numba>=0.51.2 in /home/theodechrn/.local/lib/python3.10/site-packages (from umap-learn) (0.58.1)\n",
      "Requirement already satisfied: pynndescent>=0.5 in /home/theodechrn/.local/lib/python3.10/site-packages (from umap-learn) (0.5.10)\n",
      "Requirement already satisfied: tqdm in /home/theodechrn/.local/lib/python3.10/site-packages (from umap-learn) (4.65.0)\n",
      "Requirement already satisfied: tbb>=2019.0 in /home/theodechrn/.local/lib/python3.10/site-packages (from umap-learn) (2021.11.0)\n",
      "Requirement already satisfied: llvmlite<0.42,>=0.41.0dev0 in /home/theodechrn/.local/lib/python3.10/site-packages (from numba>=0.51.2->umap-learn) (0.41.1)\n",
      "Requirement already satisfied: joblib>=0.11 in /home/theodechrn/.local/lib/python3.10/site-packages (from pynndescent>=0.5->umap-learn) (1.3.2)\n",
      "Requirement already satisfied: threadpoolctl>=2.0.0 in /home/theodechrn/.local/lib/python3.10/site-packages (from scikit-learn>=0.22->umap-learn) (3.2.0)\n",
      "Note: you may need to restart the kernel to use updated packages.\n"
     ]
    }
   ],
   "source": [
    "%pip install cvxpy\n",
    "%pip install umap-learn"
   ]
  },
  {
   "cell_type": "code",
   "execution_count": 2,
   "id": "b0931b89-24ea-4c05-809b-785ab9b0ae2f",
   "metadata": {},
   "outputs": [],
   "source": [
    "import numpy as np\n",
    "import matplotlib.pyplot as plt\n",
    "import cvxpy as cp"
   ]
  },
  {
   "cell_type": "code",
   "execution_count": 3,
   "id": "f1487838-5ff3-4dbf-82aa-e0650470b797",
   "metadata": {},
   "outputs": [],
   "source": [
    "#On l'utilisera fin de question 3, mais ça fait plus de sens d'initialiser tout en même temps\n",
    "def primal(w, X, y, Lambda=10):\n",
    "    return .5 * np.linalg.norm(X @ w - y, 2)**2 + Lambda * np.linalg.norm(w, 1)\n",
    "    \n",
    "##La fonction g(v) du problème dual\n",
    "def dual (v,p):\n",
    "    n=v.shape[0]\n",
    "    Q=.5*np.eye(n)\n",
    "    return v.T @ Q @ v + p.T@v\n",
    "    \n",
    "## La fonction f(x)=tf_0(x)+phi(x)\n",
    "def logbarrier(v,Q,p,A,b,t):\n",
    "    if np.any(b - A.dot(v) <= 0):\n",
    "        raise Exception('v non faisable : log négatif ', b-A@v)\n",
    "    #return t * dual(v,p) - np.sum(np.log(b - A @ v))\n",
    "    return t*(v.T@Q@v + p.T.dot(v)) - np.sum(np.log(b-A.dot(v)))\n",
    "##Dérivée d'ordre 1 de f, NÉGATIVE???\n",
    "def g(v,Q,p,A,b,t):\n",
    "    denominator=1/(b-A@v)\n",
    "    grad=t*(2*Q@v+p)+A.T@denominator\n",
    "    return grad\n",
    "    #return t*((Q.T+Q).dot(v)+p) + np.sum((1/(b-A.dot(v)).T)*A.T, axis=1).reshape(-1,1)\n",
    "##Hessienne de f\n",
    "def Hessian(v,Q,p,A,b,t):\n",
    "    denominator = 1 / (b - A @ v)\n",
    "    H = 2 * t * Q + A.T @ np.diag(denominator)**2 @ A\n",
    "    return H\n",
    "    #temp = b-A.dot(v)\n",
    "    #return 2*t*Q + np.sum([1/(temp[i])**2 * A[i,].reshape(-1,1).dot(A[i,].reshape(1,-1)) for i in range(A.shape[0])])"
   ]
  },
  {
   "cell_type": "code",
   "execution_count": 4,
   "id": "88e83c25-5395-4a9d-82a9-58e384f19ccc",
   "metadata": {
    "editable": true,
    "slideshow": {
     "slide_type": ""
    },
    "tags": []
   },
   "outputs": [],
   "source": [
    "#On définit le line backtracking pour l'algorithme de Newton avec les paramètres alpha et beta p. 23 \n",
    "def backtrack(f,grad_f,dv,v,t,alpha=0.1,beta=0.7):\n",
    "    rate = 1\n",
    "    #On vérifie que le nouveau v sera réalisable et qu'on n'a pas atteint le critère d'arrêt\n",
    "    while not (((b-A.dot(v+rate*dv))>0).all()) or (f(v+rate*dv,t) > f(v,t) + alpha*rate*grad_f(v,t).T.dot(dv)):\n",
    "        rate = beta*rate\n",
    "    return rate\n",
    "\n",
    "\n",
    "#Méthode de centering step avec la backtracking line\n",
    "def centering_step(Q,p,A,b,t,v0,mu,alpha=0.7,beta=0.7,eps=1e-6):\n",
    "    v_seq=[v0]\n",
    "    inner_steps=0\n",
    "    \n",
    "    ##Pour être plus facile à rentrer dans backtrack\n",
    "    f=lambda v_current, t:logbarrier(v_current,Q,p,A,b,t)\n",
    "    grad_f=lambda v_current, t:g(v_current,Q,p,A,b,t)\n",
    "    H=lambda v_current, t:Hessian(v_current,Q,p,A,b,t)\n",
    "    \n",
    "    v=v0\n",
    "    while True:\n",
    "        dv=-np.linalg.inv(H(v,t))@grad_f(v,t)\n",
    "        lambda_gap=-grad_f(v,t).T@dv\n",
    "        #On calcule (lambda^2)/2 pour le critère d'arrêt\n",
    "        if 0.5*lambda_gap<=eps:\n",
    "            break\n",
    "            #On sort de la boucle while si on a atteint la précision machine requise\n",
    "        else:\n",
    "            t_nt=backtrack(f,grad_f,dv,v,t,alpha,beta)\n",
    "            v=v+t_nt*dv\n",
    "            v_seq.append(v)\n",
    "            inner_steps+=1\n",
    "    return v_seq, inner_steps"
   ]
  },
  {
   "cell_type": "code",
   "execution_count": 5,
   "id": "e97b6868-be9a-4e93-891f-167f44ba1855",
   "metadata": {},
   "outputs": [],
   "source": [
    "def barr_method(Q,p,A,b,v0,mu,alpha=0.1,beta=0.7,eps=1e-6):\n",
    "    v_seq=[v0]\n",
    "    t=1\n",
    "    total_Nst=[0]\n",
    "    #On a 2*d contraintes d'inégalités\n",
    "    m=A.shape[0]\n",
    "    while m/t>=eps:\n",
    "        #Centering Step\n",
    "        v,k=centering_step(Q,p,A,b,t,v_seq[-1],mu,alpha,beta,eps)\n",
    "        vstar=v[-1]\n",
    "        v_seq.append(vstar)\n",
    "        t*=mu\n",
    "        total_Nst.append(total_Nst[-1]+k)\n",
    "    return np.array(v_seq),total_Nst"
   ]
  },
  {
   "cell_type": "code",
   "execution_count": 6,
   "id": "74192bc8-27a7-4334-a104-0d8dc1231ca1",
   "metadata": {},
   "outputs": [],
   "source": [
    "from sklearn.datasets import make_regression\n",
    "def random_toydataset(n,d,Lambda=10):\n",
    "    X,y,coef = make_regression(n_samples=n, n_features=d, n_informative=10, coef=True, noise = 1)\n",
    "    p=-y\n",
    "    Q=np.eye(n)/2\n",
    "    b=Lambda*np.ones(2*d)\n",
    "    v0=np.zeros(n)\n",
    "    A=np.vstack((X.T,-X.T))\n",
    "    return X,y,Q,p,A,b,v0"
   ]
  },
  {
   "cell_type": "code",
   "execution_count": 7,
   "id": "fac1b8ee-41d4-425d-80fc-6460fa346b7b",
   "metadata": {},
   "outputs": [
    {
     "data": {
      "image/png": "[encoded data removed]",
      "text/plain": [
       "<Figure size 1080x720 with 2 Axes>"
      ]
     },
     "metadata": {
      "needs_background": "light"
     },
     "output_type": "display_data"
    },
    {
     "name": "stdout",
     "output_type": "stream",
     "text": [
      "La valeur est optimale selon CVX est -2737.1509225863606\n",
      "Nous avons trouvé -2737.1509225509735.\n",
      "Différence : 3.538707460393198e-08\n"
     ]
    }
   ],
   "source": [
    "#m=100 inégalités, n=50 variables\n",
    "n=50\n",
    "d=50\n",
    "X,y,Q,p,A,b,v0=random_toydataset(n,d)\n",
    "mu_list=[2,50,150,200]\n",
    "v_total=[]\n",
    "iters_total=[]\n",
    "last_iter=[]\n",
    "f_total=[]\n",
    "for mu in mu_list:\n",
    "    v_traj, iters_newt = barr_method(Q,p,A,b,v0,mu,alpha=.1,beta=.7,eps=1e-7)\n",
    "    f=min([dual(v,p) for v in v_traj])\n",
    "    v_total.append(v_traj)\n",
    "    iters_total.append(iters_newt)\n",
    "    last_iter.append(iters_newt[-1])\n",
    "    f_total.append(f)\n",
    "\n",
    "f_star=min(f_total)\n",
    "best_mu=mu_list[np.argmin(f_total)]\n",
    "fig,(ax1,ax2) =plt.subplots(1,2, figsize=(15,10))\n",
    "for n, mu in enumerate(mu_list):\n",
    "    values = [dual(v0,p) - f_star for v0 in v_total[n]]\n",
    "    ax1.step(iters_total[n], values, label=f'{mu=}')\n",
    "ax2.plot(mu_list, last_iter, marker='o')\n",
    "ax2.set_xlabel('$\\mu$')\n",
    "ax2.set_ylabel('Itérations de Newton')\n",
    "ax1.legend()\n",
    "ax1.semilogy()\n",
    "ax1.set_xlabel(f'Itérations de Newton\\n Meilleure valeur de f*={f_star:.2f} pour {mu=}')\n",
    "ax1.set_ylabel('$f(v_t)-f^*$, approx. duality gap')\n",
    "plt.show()\n",
    "\n",
    "\n",
    "#Valeurs théoriques avec le solver CVX\n",
    "n=50\n",
    "x = cp.Variable(n)\n",
    "prob = cp.Problem(cp.Minimize(cp.quad_form(x, Q) + p.T @ x),\n",
    "                 [A @ x <= b])\n",
    "prob.solve()\n",
    "\n",
    "# Print result.\n",
    "print(f'La valeur est optimale selon CVX est {prob.value}\\nNous avons trouvé {f_star}.\\nDifférence : {f_star-prob.value}')"
   ]
  },
  {
   "cell_type": "code",
   "execution_count": 8,
   "id": "599b7524-4b64-4d9e-a9ed-c51fe74e4de0",
   "metadata": {},
   "outputs": [],
   "source": [
    "from matplotlib import colormaps\n",
    "import umap"
   ]
  },
  {
   "cell_type": "code",
   "execution_count": 11,
   "id": "87ecc549-cc60-49f6-8406-1af6a417a897",
   "metadata": {},
   "outputs": [
    {
     "data": {
      "image/png": "[encoded data removed]",
      "text/plain": [
       "<Figure size 720x720 with 2 Axes>"
      ]
     },
     "metadata": {
      "needs_background": "light"
     },
     "output_type": "display_data"
    }
   ],
   "source": [
    "#On a avec complementary slackness : w*=1/X * (y-v*)\n",
    "distance=[]\n",
    "w_list=[]\n",
    "mu_list=np.linspace(2,240,25)\n",
    "for n,mu in enumerate(mu_list):\n",
    "    v_traj, iters_newt = barr_method(Q,p,A,b,v0,mu,alpha=.1,beta=.7,eps=1e-7)\n",
    "    values = [dual(v0,p) - f_star for v0 in v_traj]\n",
    "    v_star=np.argmin(values)\n",
    "    w=np.linalg.pinv(X)@(y-v_star)\n",
    "    w_list.append(w)\n",
    "    reference=np.random.rand()*np.ones(w.shape)\n",
    "    distance.append(np.linalg.norm(w-reference))\n",
    "\n",
    "plt.figure(figsize=(10,10))\n",
    "plt.scatter(np.zeros(len(distance)),distance,marker='o',c=mu_list,cmap=\"cividis\")\n",
    "plt.colorbar(label=\"$\\mu$\", orientation=\"horizontal\") \n",
    "plt.title(\"Impact de $mu$ sur les w calculés\")\n",
    "plt.ylabel('Distance de w à un vecteur de référence aléatoire')\n",
    "plt.show()"
   ]
  }
 ],
 "metadata": {
  "kernelspec": {
   "display_name": "Python 3 (ipykernel)",
   "language": "python",
   "name": "python3"
  },
  "language_info": {
   "codemirror_mode": {
    "name": "ipython",
    "version": 3
   },
   "file_extension": ".py",
   "mimetype": "text/x-python",
   "name": "python",
   "nbconvert_exporter": "python",
   "pygments_lexer": "ipython3",
   "version": "3.10.12"
  }
 },
 "nbformat": 4,
 "nbformat_minor": 5
}
